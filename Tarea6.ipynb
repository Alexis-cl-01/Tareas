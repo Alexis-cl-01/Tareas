{
 "cells": [
  {
   "cell_type": "code",
   "execution_count": 33,
   "id": "2328eeed-94ec-4b12-842d-5ebb6d6f91df",
   "metadata": {},
   "outputs": [
    {
     "name": "stdout",
     "output_type": "stream",
     "text": [
      "1.6448537433476735\n"
     ]
    }
   ],
   "source": [
    "import numpy as np\n",
    "\n",
    "#definir la ecuación\n",
    "f = lambda t: (1/np.sqrt(2*np.pi)) * np.exp(-t**2 / 2)\n",
    "\n",
    "#formula del trapecio compuesto\n",
    "def trapecio_compuesto(a, b, n):\n",
    "    h = (b - a) / n\n",
    "    integral = f(a) + f(b)\n",
    "    \n",
    "    for i in range(1, n):\n",
    "        x_i = a + i * h\n",
    "        integral += 2 * f(x_i)\n",
    "    \n",
    "    return (h / 2) * integral\n",
    "\n",
    "#metodo de newtoin\n",
    "def newton_method(f, df, p0, epsilon=1e-5, N=100):\n",
    "    p = p0\n",
    "    for i in range(N):\n",
    "        f_p = f(p)\n",
    "        df_p = df(p)\n",
    "        if abs(f_p) < epsilon:\n",
    "            return p\n",
    "        p = p - f_p / df_p\n",
    "    else: return None\n",
    "\n",
    "#integral de 0 a p usando el metodo del trapecio\n",
    "def f_newton(p, n=1000):\n",
    "    return trapecio_compuesto(0, p, n) - 0.45 #f(p)\n",
    "\n",
    "#df(p)\n",
    "def df(p):\n",
    "    return f(p)\n",
    "\n",
    "#encontrar x con el método de newton\n",
    "p0 = 1.0  \n",
    "solucion = newton_method(lambda p: f_newton(p, n=1000), df, p0)\n",
    "print (solucion)\n",
    "\n"
   ]
  },
  {
   "cell_type": "code",
   "execution_count": null,
   "id": "a9b6db53-df5b-4dab-9f6d-46a189630650",
   "metadata": {},
   "outputs": [],
   "source": []
  }
 ],
 "metadata": {
  "kernelspec": {
   "display_name": "Python 3 (ipykernel)",
   "language": "python",
   "name": "python3"
  },
  "language_info": {
   "codemirror_mode": {
    "name": "ipython",
    "version": 3
   },
   "file_extension": ".py",
   "mimetype": "text/x-python",
   "name": "python",
   "nbconvert_exporter": "python",
   "pygments_lexer": "ipython3",
   "version": "3.12.5"
  }
 },
 "nbformat": 4,
 "nbformat_minor": 5
}
