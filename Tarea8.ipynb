{
 "cells": [
  {
   "cell_type": "code",
   "execution_count": 7,
   "id": "84b149d8-0724-40bd-89e2-7ee9caac57da",
   "metadata": {},
   "outputs": [
    {
     "name": "stdout",
     "output_type": "stream",
     "text": [
      "Resultados de la integración numérica:\n",
      "t = 1.00, y = 0.000000\n",
      "t = 1.10, y = 0.102494\n",
      "t = 1.20, y = 0.217773\n",
      "t = 1.30, y = 0.344842\n",
      "t = 1.40, y = 0.484465\n",
      "t = 1.50, y = 0.637553\n"
     ]
    }
   ],
   "source": [
    "import numpy as np\n",
    "import matplotlib.pyplot as plt\n",
    "\n",
    "# definir funcion f(t,y)\n",
    "def f(t, y):\n",
    "    return 1 + (y / t) + (y / t)**2\n",
    "\n",
    "# runge-kutta segundo orden\n",
    "def rk2_step(f, fi, t, w, h):\n",
    "    k1 = h * fi\n",
    "    k2 = h * f(t + h / 2, w + k1 / 2)\n",
    "    return (k1 + k2) / 2\n",
    "\n",
    "# definimos el metodo de Adams-Bashforth de dos pasos\n",
    "def adams_bashforth_2(f, t_values, y_values, h):\n",
    "    n = len(t_values)\n",
    "    for i in range(1, n - 1):\n",
    "        y_sgt = y_values[i] + (h / 2) * (3 * f(t_values[i], y_values[i]) - f(t_values[i - 1], y_values[i - 1]))\n",
    "        y_values[i + 1] = y_sgt\n",
    "    return y_values\n",
    "\n",
    "# parámetros del problema\n",
    "t0 = 1\n",
    "tf = 1.5\n",
    "h = 0.1 # el valor de h es arbitrario\n",
    "y0 = 0\n",
    "\n",
    "# arrays de valores\n",
    "t_values = np.linspace(t0, tf, int((tf - t0) / h) + 1) #esto me incluye los puntos de t hasta 1.5 a diferencia de np.arange(t0, tf, h)\n",
    "y_values = np.zeros(len(t_values))\n",
    "\n",
    "# primero parto con Runge-Kutta de orden 2\n",
    "fi = f(t_values[0], y_values[0])\n",
    "y_values[1] = y_values[0] + rk2_step(f, fi, t_values[0], y_values[0], h)\n",
    "\n",
    "# ahora aplico metodo de Adams-Bashforth de dos pasos\n",
    "y_values = adams_bashforth_2(f, t_values, y_values, h)\n",
    "\n",
    "# resultados\n",
    "print(\"Resultados de la integración numérica:\")\n",
    "for i in range(len(t_values)):\n",
    "    print(f\"t = {t_values[i]:.2f}, y = {y_values[i]:.6f}\")\n"
   ]
  }
 ],
 "metadata": {
  "kernelspec": {
   "display_name": "Python 3 (ipykernel)",
   "language": "python",
   "name": "python3"
  },
  "language_info": {
   "codemirror_mode": {
    "name": "ipython",
    "version": 3
   },
   "file_extension": ".py",
   "mimetype": "text/x-python",
   "name": "python",
   "nbconvert_exporter": "python",
   "pygments_lexer": "ipython3",
   "version": "3.12.5"
  }
 },
 "nbformat": 4,
 "nbformat_minor": 5
}
