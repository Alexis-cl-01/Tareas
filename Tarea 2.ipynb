{
 "cells": [
  {
   "cell_type": "code",
   "execution_count": 2,
   "id": "ddaa0a34-58df-4486-b729-f340e47deda3",
   "metadata": {},
   "outputs": [],
   "source": [
    "import numpy as np"
   ]
  },
  {
   "cell_type": "code",
   "execution_count": 16,
   "id": "9e05a725-0c37-4591-b408-9a8146068bed",
   "metadata": {},
   "outputs": [
    {
     "name": "stdout",
     "output_type": "stream",
     "text": [
      "la sumatoria en primer orden es 1.627\n"
     ]
    }
   ],
   "source": [
    "#para la suma de 1 a 100 de 1/n**2 usando la primera forma y además en 16 bits usando dtype\n",
    "n = np.arange(1,101, dtype=np.float16)\n",
    "#en el primer orden partiendo de 1 hasta 1/10^4\n",
    "f = sum(1 / n**2)\n",
    "print (\"la sumatoria en primer orden es\", f) #resultado 'ordinario' entregado por las cifras significativas de python\n",
    "#print('%.15f' % f) podemos usar para forzar hasta 15 decimales el resultado.\n"
   ]
  },
  {
   "cell_type": "code",
   "execution_count": 21,
   "id": "8323edc6-4596-4f96-8e51-57dcc990df94",
   "metadata": {},
   "outputs": [
    {
     "name": "stdout",
     "output_type": "stream",
     "text": [
      "la sumatoria en segundo orden es 1.635\n"
     ]
    }
   ],
   "source": [
    "#ahora en el segundo orden partiendo de 1/10^4 hasta 1\n",
    "f_2 = sum(1 / n[::-1]**2)\n",
    "#print('%.15f' % f)\n",
    "print (\"la sumatoria en segundo orden es\", f_2)"
   ]
  },
  {
   "cell_type": "code",
   "execution_count": 22,
   "id": "7b95e13a-762e-4870-beec-827524d4a512",
   "metadata": {},
   "outputs": [
    {
     "name": "stdout",
     "output_type": "stream",
     "text": [
      "la sumatoria en primer orden es 1.199\n"
     ]
    },
    {
     "name": "stderr",
     "output_type": "stream",
     "text": [
      "C:\\Users\\Gamer\\AppData\\Local\\Temp\\ipykernel_7972\\1725755734.py:4: RuntimeWarning: overflow encountered in power\n",
      "  f = sum(1 / n**3)\n"
     ]
    }
   ],
   "source": [
    "#ahora para la suma de 1/n**3\n",
    "n = np.arange(1,101, dtype=np.float16)\n",
    "#en el primer orden partiendo de 1 hasta 1/10^4\n",
    "f = sum(1 / n**3)\n",
    "#print('%.15f' % f)\n",
    "print(\"la sumatoria en primer orden es\", f)\n"
   ]
  },
  {
   "cell_type": "code",
   "execution_count": 23,
   "id": "c1b61215-40f0-4181-b51a-c6e58762835e",
   "metadata": {},
   "outputs": [
    {
     "name": "stdout",
     "output_type": "stream",
     "text": [
      "la sumatoria en segundo orden es 1.202\n"
     ]
    },
    {
     "name": "stderr",
     "output_type": "stream",
     "text": [
      "C:\\Users\\Gamer\\AppData\\Local\\Temp\\ipykernel_7972\\3407068985.py:2: RuntimeWarning: overflow encountered in power\n",
      "  f_2 = sum(1 / n[::-1]**3)\n"
     ]
    }
   ],
   "source": [
    "#en el segundo caso \n",
    "f_2 = sum(1 / n[::-1]**3)\n",
    "#print('%.15f' % f)\n",
    "print(\"la sumatoria en segundo orden es\", f_2)"
   ]
  },
  {
   "cell_type": "code",
   "execution_count": 28,
   "id": "0f8db22b-0c31-46db-b5aa-4fc86cad2cd1",
   "metadata": {},
   "outputs": [
    {
     "data": {
      "text/plain": [
       "(0, '01111', '1010001010')"
      ]
     },
     "execution_count": 28,
     "metadata": {},
     "output_type": "execute_result"
    }
   ],
   "source": [
    "#para ver los cambios de los resultados podríamos estudiar la forma binaria y ver las diferencias\n",
    "numero = np.float16(1.627)\n",
    "\n",
    "# Obtenemos los componentes s, c, y f\n",
    "s = int((np.signbit(num)).astype(int))  # bit (s) positivo\n",
    "c = (np.float16(num).view(np.uint16) >> 10) & 0x1F  # 5 bits de exponente (c)\n",
    "f = np.float16(num).view(np.uint16) & 0x3FF  # 10 bits de mantisa (f)\n",
    "\n",
    "# Devolvemos los valores en binario\n",
    "s, bin(c)[2:].zfill(5), bin(f)[2:].zfill(10)"
   ]
  },
  {
   "cell_type": "code",
   "execution_count": 27,
   "id": "03693b7c-0353-4e17-99d8-d1056d23905c",
   "metadata": {},
   "outputs": [
    {
     "data": {
      "text/plain": [
       "(0, '01111', '1010001010')"
      ]
     },
     "execution_count": 27,
     "metadata": {},
     "output_type": "execute_result"
    }
   ],
   "source": [
    "numero = np.float16(1.635)\n",
    "\n",
    "# Obtenemos los componentes s, c, y f\n",
    "s = int((np.signbit(num)).astype(int))  # bit (s) positivo\n",
    "c = (np.float16(num).view(np.uint16) >> 10) & 0x1F  # 5 bits de exponente (c)\n",
    "f = np.float16(num).view(np.uint16) & 0x3FF  # 10 bits de mantisa (f)\n",
    "\n",
    "# Devolvemos los valores en binario\n",
    "s, bin(c)[2:].zfill(5), bin(f)[2:].zfill(10)\n"
   ]
  },
  {
   "cell_type": "code",
   "execution_count": null,
   "id": "59dedf11-d112-4737-97a0-67e43f0305e3",
   "metadata": {},
   "outputs": [],
   "source": [
    "#vemos que en la primera suimatoria en ambos casos la diferencia se encuentra en la mantisa, es decir en los ultims digitos del paréntesis.\n",
    "#esta clase de diferencias sugieren un error de redondeo de la consola que afecta facilmente al calculo numérico en numeros de baja precisión\n",
    "#float16 trabaja con baja precision por lo que para obtener mejores resultados se podría usar float32 o float64\n",
    "#la segunda mantisa tiene un valor binario mayor, por ende será numéricamente mayor y mas cercano a redondearse correctamente que la mantisa 1.\n",
    "#lo mismo es aplicable en la serie 1/n^3"
   ]
  }
 ],
 "metadata": {
  "kernelspec": {
   "display_name": "Python 3 (ipykernel)",
   "language": "python",
   "name": "python3"
  },
  "language_info": {
   "codemirror_mode": {
    "name": "ipython",
    "version": 3
   },
   "file_extension": ".py",
   "mimetype": "text/x-python",
   "name": "python",
   "nbconvert_exporter": "python",
   "pygments_lexer": "ipython3",
   "version": "3.12.5"
  }
 },
 "nbformat": 4,
 "nbformat_minor": 5
}
