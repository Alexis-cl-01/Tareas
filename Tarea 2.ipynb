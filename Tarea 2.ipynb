{
 "cells": [
  {
   "cell_type": "code",
   "execution_count": 3,
   "id": "ddaa0a34-58df-4486-b729-f340e47deda3",
   "metadata": {},
   "outputs": [],
   "source": [
    "import numpy as np"
   ]
  },
  {
   "cell_type": "code",
   "execution_count": 4,
   "id": "9e05a725-0c37-4591-b408-9a8146068bed",
   "metadata": {},
   "outputs": [
    {
     "name": "stdout",
     "output_type": "stream",
     "text": [
      "la sumatoria en primer orden es 1.6349455118179321\n"
     ]
    }
   ],
   "source": [
    "#para la suma de 1 a 100 de 1/n**2 usando la primera forma y además en 16 bits usando dtype\n",
    "n = np.arange(1,101, dtype=np.float16)\n",
    "#en el primer orden partiendo de 1 hasta 1/10^4\n",
    "f = sum(1 / n**2)\n",
    "print (\"la sumatoria en primer orden es\", f) #resultado 'ordinario' entregado por las cifras significativas de python\n",
    "#print('%.15f' % f) podemos usar para forzar hasta 15 decimales el resultado.\n"
   ]
  },
  {
   "cell_type": "code",
   "execution_count": 5,
   "id": "8323edc6-4596-4f96-8e51-57dcc990df94",
   "metadata": {},
   "outputs": [
    {
     "name": "stdout",
     "output_type": "stream",
     "text": [
      "la sumatoria en segundo orden es 1.6349455118179321\n"
     ]
    }
   ],
   "source": [
    "#ahora en el segundo orden partiendo de 1/10^4 hasta 1\n",
    "f_2 = sum(1 / n[::-1]**2)\n",
    "#print('%.15f' % f)\n",
    "print (\"la sumatoria en segundo orden es\", f_2)"
   ]
  },
  {
   "cell_type": "code",
   "execution_count": 6,
   "id": "7b95e13a-762e-4870-beec-827524d4a512",
   "metadata": {},
   "outputs": [
    {
     "name": "stdout",
     "output_type": "stream",
     "text": [
      "la sumatoria en primer orden es 1.6349455118179321\n"
     ]
    }
   ],
   "source": [
    "#ahora para la suma de 1/n**3\n",
    "#n = np.arange(1,101, dtype=np.float16)\n",
    "#en el primer orden partiendo de 1 hasta 1/10^4\n",
    "#f = sum(1 / n**3)\n",
    "#print('%.15f' % f)\n",
    "print(\"la sumatoria en primer orden es\", f)\n"
   ]
  },
  {
   "cell_type": "code",
   "execution_count": 7,
   "id": "c1b61215-40f0-4181-b51a-c6e58762835e",
   "metadata": {},
   "outputs": [
    {
     "name": "stdout",
     "output_type": "stream",
     "text": [
      "la sumatoria en segundo orden es 1.6349455118179321\n"
     ]
    }
   ],
   "source": [
    "#en el segundo caso \n",
    "#f_2 = sum(1 / n[::-1]**3)\n",
    "#print('%.15f' % f)\n",
    "print(\"la sumatoria en segundo orden es\", f_2)"
   ]
  },
  {
   "cell_type": "code",
   "execution_count": 8,
   "id": "0f8db22b-0c31-46db-b5aa-4fc86cad2cd1",
   "metadata": {},
   "outputs": [
    {
     "ename": "NameError",
     "evalue": "name 'num' is not defined",
     "output_type": "error",
     "traceback": [
      "\u001b[1;31m---------------------------------------------------------------------------\u001b[0m",
      "\u001b[1;31mNameError\u001b[0m                                 Traceback (most recent call last)",
      "Cell \u001b[1;32mIn[8], line 5\u001b[0m\n\u001b[0;32m      2\u001b[0m numero \u001b[38;5;241m=\u001b[39m np\u001b[38;5;241m.\u001b[39mfloat16(\u001b[38;5;241m1.627\u001b[39m)\n\u001b[0;32m      4\u001b[0m \u001b[38;5;66;03m# Obtenemos los componentes s, c, y f\u001b[39;00m\n\u001b[1;32m----> 5\u001b[0m s \u001b[38;5;241m=\u001b[39m \u001b[38;5;28mint\u001b[39m((np\u001b[38;5;241m.\u001b[39msignbit(num))\u001b[38;5;241m.\u001b[39mastype(\u001b[38;5;28mint\u001b[39m))  \u001b[38;5;66;03m# bit (s) positivo\u001b[39;00m\n\u001b[0;32m      6\u001b[0m c \u001b[38;5;241m=\u001b[39m (np\u001b[38;5;241m.\u001b[39mfloat16(num)\u001b[38;5;241m.\u001b[39mview(np\u001b[38;5;241m.\u001b[39muint16) \u001b[38;5;241m>>\u001b[39m \u001b[38;5;241m10\u001b[39m) \u001b[38;5;241m&\u001b[39m \u001b[38;5;241m0x1F\u001b[39m  \u001b[38;5;66;03m# 5 bits de exponente (c)\u001b[39;00m\n\u001b[0;32m      7\u001b[0m \u001b[38;5;66;03m#f = np.float16(num).view(np.uint16) & 0x3FF  # 10 bits de mantisa (f)\u001b[39;00m\n\u001b[0;32m      8\u001b[0m \n\u001b[0;32m      9\u001b[0m \u001b[38;5;66;03m# Devolvemos los valores en binario\u001b[39;00m\n",
      "\u001b[1;31mNameError\u001b[0m: name 'num' is not defined"
     ]
    }
   ],
   "source": [
    "#para ver los cambios de los resultados podríamos estudiar la forma binaria y ver las diferencias\n",
    "numero = np.float16(1.627)\n",
    "\n",
    "# Obtenemos los componentes s, c, y f\n",
    "s = int((np.signbit(num)).astype(int))  # bit (s) positivo\n",
    "c = (np.float16(num).view(np.uint16) >> 10) & 0x1F  # 5 bits de exponente (c)\n",
    "#f = np.float16(num).view(np.uint16) & 0x3FF  # 10 bits de mantisa (f)\n",
    "\n",
    "# Devolvemos los valores en binario\n",
    "s, bin(c)[2:].zfill(5), bin(f)[2:].zfill(10)"
   ]
  },
  {
   "cell_type": "code",
   "execution_count": 9,
   "id": "03693b7c-0353-4e17-99d8-d1056d23905c",
   "metadata": {},
   "outputs": [
    {
     "ename": "NameError",
     "evalue": "name 'num' is not defined",
     "output_type": "error",
     "traceback": [
      "\u001b[1;31m---------------------------------------------------------------------------\u001b[0m",
      "\u001b[1;31mNameError\u001b[0m                                 Traceback (most recent call last)",
      "Cell \u001b[1;32mIn[9], line 4\u001b[0m\n\u001b[0;32m      1\u001b[0m numero \u001b[38;5;241m=\u001b[39m np\u001b[38;5;241m.\u001b[39mfloat16(\u001b[38;5;241m1.635\u001b[39m)\n\u001b[0;32m      3\u001b[0m \u001b[38;5;66;03m# Obtenemos los componentes s, c, y f\u001b[39;00m\n\u001b[1;32m----> 4\u001b[0m s \u001b[38;5;241m=\u001b[39m \u001b[38;5;28mint\u001b[39m((np\u001b[38;5;241m.\u001b[39msignbit(num))\u001b[38;5;241m.\u001b[39mastype(\u001b[38;5;28mint\u001b[39m))  \u001b[38;5;66;03m# bit (s) positivo\u001b[39;00m\n\u001b[0;32m      5\u001b[0m c \u001b[38;5;241m=\u001b[39m (np\u001b[38;5;241m.\u001b[39mfloat16(num)\u001b[38;5;241m.\u001b[39mview(np\u001b[38;5;241m.\u001b[39muint16) \u001b[38;5;241m>>\u001b[39m \u001b[38;5;241m10\u001b[39m) \u001b[38;5;241m&\u001b[39m \u001b[38;5;241m0x1F\u001b[39m  \u001b[38;5;66;03m# 5 bits de exponente (c)\u001b[39;00m\n\u001b[0;32m      6\u001b[0m \u001b[38;5;66;03m#f = np.float16(num).view(np.uint16) & 0x3FF  # 10 bits de mantisa (f)\u001b[39;00m\n\u001b[0;32m      7\u001b[0m \n\u001b[0;32m      8\u001b[0m \u001b[38;5;66;03m# Devolvemos los valores en binario\u001b[39;00m\n",
      "\u001b[1;31mNameError\u001b[0m: name 'num' is not defined"
     ]
    }
   ],
   "source": [
    "numero = np.float16(1.635)\n",
    "\n",
    "# Obtenemos los componentes s, c, y f\n",
    "s = int((np.signbit(num)).astype(int))  # bit (s) positivo\n",
    "c = (np.float16(num).view(np.uint16) >> 10) & 0x1F  # 5 bits de exponente (c)\n",
    "#f = np.float16(num).view(np.uint16) & 0x3FF  # 10 bits de mantisa (f)\n",
    "\n",
    "# Devolvemos los valores en binario\n",
    "s, bin(c)[2:].zfill(5), bin(f)[2:].zfill(10)\n"
   ]
  },
  {
   "cell_type": "code",
   "execution_count": 10,
   "id": "59dedf11-d112-4737-97a0-67e43f0305e3",
   "metadata": {},
   "outputs": [],
   "source": [
    "#vemos que en la primera suimatoria en ambos casos la diferencia se encuentra en la mantisa, es decir en los ultims digitos del paréntesis.\n",
    "#esta clase de diferencias sugieren un error de redondeo de la consola que afecta facilmente al calculo numérico en numeros de baja precisión\n",
    "#float16 trabaja con baja precision por lo que para obtener mejores resultados se podría usar float32 o float64\n",
    "#la segunda mantisa tiene un valor binario mayor, por ende será numéricamente mayor y mas cercano a redondearse correctamente que la mantisa 1.\n",
    "#lo mismo es aplicable en la serie 1/n^3"
   ]
  },
  {
   "cell_type": "markdown",
   "id": "b43b8e9a",
   "metadata": {},
   "source": [
    "# Nota: 70\n",
    "Para analizar la presicion tambien podrias haber intentado ver el error de calculo:"
   ]
  },
  {
   "cell_type": "code",
   "execution_count": 11,
   "id": "b3745c90",
   "metadata": {},
   "outputs": [
    {
     "name": "stdout",
     "output_type": "stream",
     "text": [
      "-2.3479354723791536e-05 -2.3479354723791536e-05\n"
     ]
    }
   ],
   "source": [
    "exacta = sum(1/n**2 for n in range(1,101))\n",
    "err1 = (f - exacta)/exacta\n",
    "err2 = (f_2 - exacta)/exacta\n",
    "\n",
    "print(err1, err2)\n",
    "#Como vemos, el segundo método produce un error más pequeño.\n",
    "#Esto es porque al llegar a términos con n grande estaremos sumando términos\n",
    "#cada vez más pequeños a una cantidad relativamente grande\n",
    "#Esto hace que se pierda precisión."
   ]
  },
  {
   "cell_type": "code",
   "execution_count": null,
   "id": "b0c3b4fe",
   "metadata": {},
   "outputs": [],
   "source": []
  },
  {
   "cell_type": "code",
   "execution_count": null,
   "id": "9df58363",
   "metadata": {},
   "outputs": [],
   "source": []
  }
 ],
 "metadata": {
  "kernelspec": {
   "display_name": "Python 3 (ipykernel)",
   "language": "python",
   "name": "python3"
  },
  "language_info": {
   "codemirror_mode": {
    "name": "ipython",
    "version": 3
   },
   "file_extension": ".py",
   "mimetype": "text/x-python",
   "name": "python",
   "nbconvert_exporter": "python",
   "pygments_lexer": "ipython3",
   "version": "3.11.3"
  }
 },
 "nbformat": 4,
 "nbformat_minor": 5
}
