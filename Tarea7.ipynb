{
 "cells": [
  {
   "cell_type": "code",
   "execution_count": 32,
   "id": "3330225a-8e5f-4949-96a3-e45466739ba3",
   "metadata": {},
   "outputs": [
    {
     "name": "stdout",
     "output_type": "stream",
     "text": [
      "                    2                                      \n",
      "- 23.6712922376638⋅t  + 75.950618805164⋅t - 33.556009032472\n"
     ]
    }
   ],
   "source": [
    "import numpy as np\n",
    "import sympy as sp #uso sympy para dejar una variable simbolica \"t\", si la defino usaría scipy\n",
    "\n",
    "def f(t, y): #defino una función EDO lineal segundo orden en este caso\n",
    "    return y - t**2 +1\n",
    "\n",
    "def df(t, y): #ahora su derivada (conocida)\n",
    "    return f(t, y) - 2*t\n",
    "\n",
    "def taylor2_hermite_symbolic(f, df, a, b, yo, N): #metodo taylor segundo orden con interpolación\n",
    "    h = (b - a) / N\n",
    "    t_sym = sp.Symbol('t') #variable t simbólica\n",
    "    t = a\n",
    "    w = yo\n",
    "    ts = np.zeros(N + 1)\n",
    "    sol = np.zeros(N + 1)\n",
    "    deriv = np.zeros(N + 1) #derivada de la solución\n",
    "\n",
    "    for i in range(N): #derivada en cada valor t_i\n",
    "        ts[i] = t\n",
    "        sol[i] = w\n",
    "        deriv[i] = f(t,w)\n",
    "        w = w + h * f(t, w) + (h**2) * df(t, w) / 2\n",
    "        t = t + h\n",
    "\n",
    "    ts[N] = t #en el ultimo puinto\n",
    "    sol[N] = w\n",
    "    deriv[N] = f(t, w)\n",
    "\n",
    "    hermite_polynomial = 0 #polinomio de hermite\n",
    "    for i in range(N): # polinomio de orden 2\n",
    "        h_i = ts[i+1] - ts[i]\n",
    "        hermite_basis = ((\n",
    "        sol[i] * (1 - (t_sym - ts[i]) / h_i) +\n",
    "        sol[i+1] * (t_sym - ts[i]) / h_i) +\n",
    "        deriv[i] * (t_sym - ts[i]) * (1 -\n",
    "        (t_sym - ts[i]) / h_i) * h_i\n",
    "        )\n",
    "        hermite_polynomial += hermite_basis\n",
    "    return sp.simplify(hermite_polynomial)\n",
    "#definimos variables\n",
    "a = 0\n",
    "b = 2\n",
    "yo = 0.5\n",
    "N = 10\n",
    "\n",
    "hermite_poly = taylor2_hermite_symbolic(f, df, a, b, yo, N) #metodo de Taylor con interpolación\n",
    "sp.pprint(hermite_poly)\n"
   ]
  },
  {
   "cell_type": "code",
   "execution_count": 33,
   "id": "3f7f1177-cbdd-4fa4-846e-03c4354c5874",
   "metadata": {},
   "outputs": [
    {
     "name": "stdout",
     "output_type": "stream",
     "text": [
      "Valor del polinomio interpolante en t = 1.5 : 27.1095116405304\n"
     ]
    }
   ],
   "source": [
    "#Ejemplo \n",
    "\n",
    "t_val = 1.5 #asigno un valor t\n",
    "hermite_at_t = hermite_poly.subs('t', t_val) #resultado\n",
    "print(f'Valor del polinomio interpolante en t = {t_val} : {hermite_at_t}')"
   ]
  },
  {
   "cell_type": "code",
   "execution_count": null,
   "id": "fa358333-e9a7-472e-8374-d4bc3da1c3f7",
   "metadata": {},
   "outputs": [],
   "source": []
  }
 ],
 "metadata": {
  "kernelspec": {
   "display_name": "Python 3 (ipykernel)",
   "language": "python",
   "name": "python3"
  },
  "language_info": {
   "codemirror_mode": {
    "name": "ipython",
    "version": 3
   },
   "file_extension": ".py",
   "mimetype": "text/x-python",
   "name": "python",
   "nbconvert_exporter": "python",
   "pygments_lexer": "ipython3",
   "version": "3.12.5"
  }
 },
 "nbformat": 4,
 "nbformat_minor": 5
}
