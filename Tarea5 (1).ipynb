{
 "cells": [
  {
   "cell_type": "code",
   "execution_count": 13,
   "id": "9e1b9eda-8e7f-4c4b-85c4-1b68e706a3d9",
   "metadata": {},
   "outputs": [
    {
     "name": "stdout",
     "output_type": "stream",
     "text": [
      "Parámetros óptimos: PL = 241252.78, c = 0.3875, k = 0.0413\n",
      "Población en 1960: 393864.22\n",
      "Población en 1970: 324481.17\n",
      "Población en 1980: 290594.03\n",
      "Población en 1990: 271803.38\n",
      "Población en 2020: 249384.04\n",
      "Diferencia Absoluta: 22170.38\n",
      "Porcentaje de Error: 8.88%\n"
     ]
    }
   ],
   "source": [
    "import numpy as np\n",
    "\n",
    "#parametros de población y años\n",
    "poblacion = np.array([179323, 203302, 226542])\n",
    "años = np.array([1960, 1970, 1980])\n",
    "\n",
    "#modelo estimar crecimiento poblacional\n",
    "def modelo_logistico(t, PL, c, k):\n",
    "    return PL / (1 - c * np.exp(-k * (t - 1960)))  # Restamos t - 1960 para definir ese año ccomo punto de partida \n",
    "\n",
    "#funcion de error: modelo - datos reales\n",
    "def error(parametros):\n",
    "    PL, c, k = parametros  # t variable independiente\n",
    "    predicciones = modelo_logistico(años, PL, c, k)\n",
    "    return predicciones - poblacion\n",
    "\n",
    "#metodo secante\n",
    "def secante(f, p0, p1, epsilon, N=100000):  #p0 y p1 vectores dependen de (Pl, c, k)\n",
    "    q0 = f(p0)\n",
    "    q1 = f(p1)\n",
    "    for i in range(1, N):\n",
    "        #formula de la secante para varias variables (usar prod punto)\n",
    "        p = p1 - (np.dot((p1 - p0), (q1 - q0)) / np.dot((q1 - q0), (q1 - q0))) * (p1 - p0)\n",
    "        if np.linalg.norm(p - p1) / np.linalg.norm(p) < epsilon:  #usar norma para vectores (abs para escalar)\n",
    "            return p  # Devolver solo los parámetros óptimos\n",
    "        p0 = p1\n",
    "        p1 = p\n",
    "        q0 = q1\n",
    "        q1 = f(p1)\n",
    "\n",
    "    raise ValueError('No se encontró el cero luego de {} iteraciones')\n",
    "    \n",
    "#estimaciones para los parámetros [P_L, c, k]\n",
    "p0 = np.array([230000, 0.5, 0.03])\n",
    "p1 = np.array([240000, 0.4, 0.04])\n",
    "\n",
    "#definir epsilon\n",
    "epsilon = 1e-6\n",
    "\n",
    "try:\n",
    "    resultado = secante(error, p0, p1, epsilon) #ejecuta la secante con el error\n",
    "    PL_optimo, c_optimo, k_optimo = resultado \n",
    "    print(f\"Parámetros óptimos: PL = {PL_optimo:.2f}, c = {c_optimo:.4f}, k = {k_optimo:.4f}\")\n",
    "except ValueError as e:\n",
    "    print(e)\n",
    "\n",
    "#predicciones\n",
    "años_prediccion = np.array([1960, 1970, 1980, 1990, 2020])  # Agregamos la predicción para 1990 y 2020\n",
    "predicciones = modelo_logistico(años_prediccion, PL_optimo, c_optimo, k_optimo) #si la secante converge\n",
    "\n",
    "#mostrar resultados\n",
    "for i, año in enumerate(años_prediccion):\n",
    "    print(f\"Población en {año}: {predicciones[i]:.2f}\")\n",
    "\n",
    "#comparación predicción para 1990\n",
    "valor_real_1990 = 249633\n",
    "año_prediccion = 1990\n",
    "prediccion_1990 = modelo_logistico(np.array([año_prediccion]), PL_optimo, c_optimo, k_optimo)[0]\n",
    "\n",
    "diferencia_absoluta = abs(valor_real_1990 - prediccion_1990) #cuanto se desvía la predicción del valor real.\n",
    "porcentaje_error = (diferencia_absoluta / valor_real_1990) * 100\n",
    "#resultados\n",
    "print(f\"Diferencia Absoluta: {diferencia_absoluta:.2f}\")\n",
    "print(f\"Porcentaje de Error: {porcentaje_error:.2f}%\")\n"
   ]
  },
  {
   "cell_type": "markdown",
   "id": "8a4292ea",
   "metadata": {},
   "source": [
    "# Nota: 60\n",
    "El calculo de los parametros optimos y de las simulaciones esta mal, ya que no definiste la funcion $f(PL)$ que habia que resolver"
   ]
  },
  {
   "cell_type": "code",
   "execution_count": 20,
   "id": "13e73181",
   "metadata": {},
   "outputs": [],
   "source": [
    "P1980 = 226542\n",
    "P1970 = 203302\n",
    "P1960 = 179323\n",
    "\n",
    "def f(PL):\n",
    "    return (1 - PL/P1960 - (1 - PL/P1970)**2)*P1980 - PL*(1 - PL/P1960)"
   ]
  },
  {
   "cell_type": "code",
   "execution_count": 16,
   "id": "646397af",
   "metadata": {},
   "outputs": [],
   "source": [
    "def biseccion(f, a, b, epsilon, N=1000000):\n",
    "    \n",
    "    pp = a\n",
    "    for i in range(N):\n",
    "        p = a + (b - a)/2\n",
    "        if abs(pp - p)/abs(p) < epsilon:\n",
    "            return p, pp\n",
    "        elif f(p)*f(a) > 0:\n",
    "            a = p\n",
    "        else:\n",
    "            b = p\n",
    "        pp = p\n",
    "        \n",
    "    raise MaxIterations(\"No se encontró el cero después de\", N, \"iteraciones.\")"
   ]
  },
  {
   "cell_type": "code",
   "execution_count": 17,
   "id": "2d96bdb7",
   "metadata": {},
   "outputs": [
    {
     "data": {
      "text/plain": [
       "(365235.009765625, 363281.88671875)"
      ]
     },
     "execution_count": 17,
     "metadata": {},
     "output_type": "execute_result"
    }
   ],
   "source": [
    "biseccion(f, 1, 1000000, 0.01)"
   ]
  },
  {
   "cell_type": "code",
   "execution_count": 21,
   "id": "87daf192",
   "metadata": {},
   "outputs": [
    {
     "name": "stdout",
     "output_type": "stream",
     "text": [
      "-1.0266938856188905 363432.8276508363 0.767171254441075\n"
     ]
    }
   ],
   "source": [
    "def secante(f, po, p1, epsilon, N=1000000):\n",
    "    \n",
    "    qo = f(po)\n",
    "    q1 = f(p1)\n",
    "    for i in range(1, N):\n",
    "        p = p1 - q1*(p1 - po)/(q1 - qo)\n",
    "        if abs(p - p1)/abs(p) < epsilon:\n",
    "            return p, i\n",
    "        po = p1\n",
    "        p1 = p\n",
    "        qo = q1\n",
    "        q1 = f(p1)\n",
    "        \n",
    "    raise MaxIterations('No se encontró el cero luego de', N, 'iteraciones')\n",
    "PL = secante(f, 365235.009765625, 363281.88671875, 0.0001)[0]\n",
    "expmk = (1 - PL/P1970)/(1 - PL/P1960)\n",
    "c = (1 - PL/P1960) \n",
    "print(c, PL, expmk)"
   ]
  },
  {
   "cell_type": "code",
   "execution_count": 22,
   "id": "841f7066",
   "metadata": {},
   "outputs": [],
   "source": [
    "def pobl(t, PL, expmk, c):\n",
    "    return PL/(1 - c*np.exp(np.log(expmk)*t))"
   ]
  },
  {
   "cell_type": "code",
   "execution_count": 25,
   "id": "521314a6",
   "metadata": {},
   "outputs": [
    {
     "data": {
      "text/plain": [
       "248318.92822181608"
      ]
     },
     "execution_count": 25,
     "metadata": {},
     "output_type": "execute_result"
    }
   ],
   "source": [
    "pobl(3, PL, expmk, c)\n"
   ]
  },
  {
   "cell_type": "code",
   "execution_count": 24,
   "id": "d54a7430",
   "metadata": {},
   "outputs": [
    {
     "data": {
      "text/plain": [
       "300528.4946747103"
      ]
     },
     "execution_count": 24,
     "metadata": {},
     "output_type": "execute_result"
    }
   ],
   "source": [
    "pobl(6, PL, expmk, c)"
   ]
  },
  {
   "cell_type": "code",
   "execution_count": null,
   "id": "dcb337dd",
   "metadata": {},
   "outputs": [],
   "source": []
  }
 ],
 "metadata": {
  "kernelspec": {
   "display_name": "Python 3 (ipykernel)",
   "language": "python",
   "name": "python3"
  },
  "language_info": {
   "codemirror_mode": {
    "name": "ipython",
    "version": 3
   },
   "file_extension": ".py",
   "mimetype": "text/x-python",
   "name": "python",
   "nbconvert_exporter": "python",
   "pygments_lexer": "ipython3",
   "version": "3.11.3"
  }
 },
 "nbformat": 4,
 "nbformat_minor": 5
}
